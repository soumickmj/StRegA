{
 "cells": [
  {
   "cell_type": "code",
   "execution_count": 6,
   "id": "88243c52",
   "metadata": {},
   "outputs": [],
   "source": [
    "import os\n",
    "import torch\n",
    "import pickle\n",
    "import random\n",
    "import h5py as h5\n",
    "import pandas as pd\n",
    "import numpy as np\n",
    "import nibabel as nib\n",
    "import seaborn as sns\n",
    "from scipy import ndimage\n",
    "from skimage import morphology\n",
    "from torchio import transforms\n",
    "import matplotlib.pyplot as plt\n",
    "from torch.cuda.amp import autocast\n",
    "from torch.utils.data import Dataset\n",
    "from torchio.data.subject import Subject\n",
    "from skimage import filters, exposure\n",
    "from torch.utils.data import Dataset, DataLoader\n",
    "\n",
    "from dataloaders.ixi_torchiowrap import IXI_H5DSImage\n",
    "import ceVae\n",
    "from ceVae.aes import VAE\n",
    "from ceVae.helpers import kl_loss_fn, rec_loss_fn, geco_beta_update, get_ema, get_square_mask"
   ]
  },
  {
   "cell_type": "code",
   "execution_count": 7,
   "id": "830b3201",
   "metadata": {},
   "outputs": [],
   "source": [
    "def dice(true_mask, pred_mask, non_seg_score=1.0):\n",
    "    \"\"\"\n",
    "        Computes the Dice coefficient.\n",
    "        Args:\n",
    "            true_mask : Array of arbitrary shape.\n",
    "            pred_mask : Array with the same shape than true_mask.  \n",
    "        \n",
    "        Returns:\n",
    "            A scalar representing the Dice coefficient between the two segmentations. \n",
    "        \n",
    "    \"\"\"\n",
    "    assert true_mask.shape == pred_mask.shape\n",
    "\n",
    "    true_mask = np.asarray(true_mask).astype(bool)\n",
    "    pred_mask = np.asarray(pred_mask).astype(bool)\n",
    "\n",
    "    # If both segmentations are all zero, the dice will be 1. (Developer decision)\n",
    "    im_sum = true_mask.sum() + pred_mask.sum()\n",
    "    if im_sum == 0:\n",
    "        return non_seg_score\n",
    "\n",
    "    # Compute Dice coefficient\n",
    "    intersection = np.logical_and(true_mask, pred_mask)\n",
    "    return 2. * intersection.sum() / im_sum"
   ]
  },
  {
   "cell_type": "markdown",
   "id": "b8add4cc",
   "metadata": {},
   "source": [
    "### Load Model checkpoint"
   ]
  },
  {
   "cell_type": "markdown",
   "id": "7621fea5",
   "metadata": {},
   "source": [
    "#### From a local checkpoint file"
   ]
  },
  {
   "cell_type": "code",
   "execution_count": 8,
   "id": "62b4dc12",
   "metadata": {},
   "outputs": [],
   "source": [
    "model = torch.load('checkpoint/brain.ptrh', map_location='cuda:0')"
   ]
  },
  {
   "cell_type": "markdown",
   "id": "9b870be1",
   "metadata": {},
   "source": [
    "#### From Huggingface"
   ]
  },
  {
   "cell_type": "code",
   "execution_count": null,
   "id": "5fc305fb",
   "metadata": {},
   "outputs": [],
   "source": [
    "from transformers import AutoModel\n",
    "modelHF = AutoModel.from_pretrained(\"soumickmj/StRegA_cceVAE2D_Brain_MOOD_IXIT1_IXIT2_IXIPD\", trust_remote_code=True)\n",
    "model = modelHF.model.to('cuda:0')"
   ]
  },
  {
   "cell_type": "markdown",
   "id": "57e99c1f",
   "metadata": {},
   "source": [
    "### Load Data files"
   ]
  },
  {
   "cell_type": "code",
   "execution_count": null,
   "id": "cbd0e4ba",
   "metadata": {},
   "outputs": [],
   "source": [
    "device = torch.device('cuda:2')\n",
    "model = torch.load('brain.ptrh', map_location='cuda:2')\n",
    "\n",
    "file_list = os.listdir('./brats/non_seg')\n",
    "file_list.sort()"
   ]
  },
  {
   "cell_type": "markdown",
   "id": "26e4b3ff",
   "metadata": {},
   "source": [
    "### StRegA Pipeline"
   ]
  },
  {
   "cell_type": "code",
   "execution_count": null,
   "id": "df2d814b",
   "metadata": {
    "scrolled": false
   },
   "outputs": [],
   "source": [
    "s_index = 80\n",
    "for idx, file in enumerate(file_list):\n",
    "    orig = nib.load('./brats/non_seg/' + file).get_fdata()\n",
    "    seg_vol = nib.load('./brats/seg/' + file).get_fdata()\n",
    "    mask = nib.load('./brats/mask/' + file).get_fdata()\n",
    "    \n",
    "    orig = np.moveaxis(orig, 2, 0)\n",
    "    seg_vol = np.moveaxis(seg_vol, 2, 0)\n",
    "    mask = np.moveaxis(mask, 2, 0)\n",
    "    mask[mask > 0] = 1\n",
    "    \n",
    "    orig_data_item = torch.tensor(orig).unsqueeze(dim = 0)\n",
    "    orig_out = transforms.CropOrPad((155, 256, 256))(orig_data_item)\n",
    "    orig_out = orig_out.squeeze(dim = 0).unsqueeze(dim = 1)\n",
    "    \n",
    "    data_item = torch.tensor(seg_vol).unsqueeze(dim = 0)\n",
    "    out = transforms.CropOrPad((155, 256, 256))(data_item)\n",
    "    out = out.squeeze(dim = 0).unsqueeze(dim = 1)\n",
    "    \n",
    "    m_data_item = torch.tensor(mask).unsqueeze(dim = 0)\n",
    "    m_out = transforms.CropOrPad((155, 256, 256))(m_data_item)\n",
    "    m_out = m_out.squeeze(dim = 0).unsqueeze(dim = 1)\n",
    "        \n",
    "    img = out.float().to(device)\n",
    "    mask = m_out.float().to(device)\n",
    "    img = (img - torch.min(img))/ (torch.max(img) - torch.min(img))\n",
    "    img = torch.nan_to_num(img, nan=0.0)\n",
    "\n",
    "    with autocast():\n",
    "        x_r, _ = model(img)\n",
    "        \n",
    "    # Difference of reconstruction and input\n",
    "    x_r = x_r.float()\n",
    "    diff_mask = (x_r.detach().cpu().numpy() - img.detach().cpu().numpy())\n",
    "    \n",
    "    # Manual Thresholding\n",
    "    m_diff_mask = diff_mask.copy()\n",
    "    m_diff_mask[m_diff_mask < 0] = 0\n",
    "    m_diff_mask[m_diff_mask > 0.2] = 1\n",
    "    \n",
    "    # Otsu Thresholding\n",
    "    val = filters.threshold_otsu(m_diff_mask)\n",
    "    thr = m_diff_mask > val\n",
    "    thr[thr < 0] = 0\n",
    "    \n",
    "    # Morphological Opening\n",
    "    final = np.zeros_like(thr)\n",
    "    for i in range(thr.shape[0]):\n",
    "        final[i,0] = torch.tensor(morphology.area_opening(thr[i,0], area_threshold=256))\n",
    "    final[img.cpu() == 0] = 0\n",
    "    \n",
    "    s_index = 90\n",
    "    fig = plt.figure(figsize=(15, 15))\n",
    "    ax1 = fig.add_subplot(1,6,1)\n",
    "    #ax1.set_title('Input image', fontsize=12)\n",
    "    rotated_img = ndimage.rotate(orig_out[s_index, 0], -90)\n",
    "    ax1.imshow(rotated_img, cmap='gray')\n",
    "    ax1.tick_params(axis='both', which='major', labelsize=4)\n",
    "    plt.axis('off')\n",
    "    \n",
    "    ax1 = fig.add_subplot(1,6,1)\n",
    "    #ax1.set_title('Input image', fontsize=12)\n",
    "    rotated_img = ndimage.rotate(orig_out.cpu().detach().numpy()[s_index, 0], -90)\n",
    "    ax1.imshow(rotated_img, cmap='gray')\n",
    "    ax1.tick_params(axis='both', which='major', labelsize=4)\n",
    "    plt.axis('off')\n",
    "    \n",
    "    ax1 = fig.add_subplot(1,6,2)\n",
    "    #ax1.set_title('Input image', fontsize=12)\n",
    "    rotated_img = ndimage.rotate(img.cpu().detach().numpy()[s_index, 0], -90)\n",
    "    ax1.imshow(rotated_img, cmap='gray')\n",
    "    ax1.tick_params(axis='both', which='major', labelsize=4)\n",
    "    plt.axis('off')\n",
    "\n",
    "    ax2 = fig.add_subplot(1,6,3)\n",
    "    #ax2.set_title('Reconstruction', fontsize=12)\n",
    "    rotated_img = ndimage.rotate(x_r.float().cpu().detach().numpy()[s_index, 0], -90)\n",
    "    ax2.imshow(rotated_img, cmap='gray')\n",
    "    ax2.tick_params(axis='both', which='major', labelsize=4)\n",
    "    plt.axis('off')\n",
    "\n",
    "#     ax3 = fig.add_subplot(1,6,4)\n",
    "#     #ax3.set_title('Difference', fontsize=12)\n",
    "#     rotated_img = ndimage.rotate(diff_mask[s_index,0], -90)\n",
    "#     ax3.imshow(rotated_img, cmap='gray')\n",
    "#     ax3.tick_params(axis='both', which='major', labelsize=4)\n",
    "#     plt.axis('off')\n",
    "\n",
    "    ax5 = fig.add_subplot(1,6,4)\n",
    "    rotated_img = ndimage.rotate(thr[s_index,0], -90)\n",
    "    #ax5.set_title('Otsu Auto Threshold', fontsize=12)\n",
    "    ax5.imshow(rotated_img, cmap='gray')\n",
    "    ax5.tick_params(axis='both', which='major', labelsize=4)\n",
    "    plt.axis('off')\n",
    "\n",
    "    ax6 = fig.add_subplot(1,6,5)\n",
    "    rotated_img = ndimage.rotate(final[s_index,0], -90)\n",
    "    #ax6.set_title('Morphological Opening', fontsize=12)\n",
    "    ax6.imshow(rotated_img, cmap='gray')\n",
    "    ax6.tick_params(axis='both', which='major', labelsize=4)\n",
    "    plt.axis('off')\n",
    "    \n",
    "    ax6 = fig.add_subplot(1,6,6)\n",
    "    rotated_img = ndimage.rotate(m_out[s_index,0], -90)\n",
    "    #ax6.set_title('Morphological Opening', fontsize=12)\n",
    "    ax6.imshow(rotated_img, cmap='gray')\n",
    "    ax6.tick_params(axis='both', which='major', labelsize=4)\n",
    "    plt.axis('off')\n",
    "\n",
    "    fig.tight_layout()"
   ]
  }
 ],
 "metadata": {
  "kernelspec": {
   "display_name": "Python 3",
   "language": "python",
   "name": "python3"
  },
  "language_info": {
   "codemirror_mode": {
    "name": "ipython",
    "version": 3
   },
   "file_extension": ".py",
   "mimetype": "text/x-python",
   "name": "python",
   "nbconvert_exporter": "python",
   "pygments_lexer": "ipython3",
   "version": "3.11.3"
  }
 },
 "nbformat": 4,
 "nbformat_minor": 5
}
